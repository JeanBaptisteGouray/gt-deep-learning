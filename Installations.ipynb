{
 "cells": [
  {
   "cell_type": "markdown",
   "metadata": {},
   "source": [
    "# Anaconda"
   ]
  },
  {
   "cell_type": "markdown",
   "metadata": {},
   "source": [
    "Anaconda est une plateforme libre de distribution pour Python et R. Il permet de gérer de librairies python via `conda`. Il est supporté par Linux/MacOS/Windows."
   ]
  },
  {
   "cell_type": "markdown",
   "metadata": {},
   "source": [
    "## Installation"
   ]
  },
  {
   "cell_type": "markdown",
   "metadata": {},
   "source": [
    "Il suffit de le télécharger à cette adresse https://www.anaconda.com/download/ et de suivre les étapes d'installations."
   ]
  },
  {
   "cell_type": "markdown",
   "metadata": {},
   "source": [
    "## Environnement virtuel"
   ]
  },
  {
   "cell_type": "markdown",
   "metadata": {},
   "source": [
    "Anaconda permet de créer différents environnements de python, avec différentes versions, différentes librairies etc."
   ]
  },
  {
   "cell_type": "markdown",
   "metadata": {},
   "source": [
    "Il faut d'abord vérifier que conda est bien installé via la commande `conda -V`. Ensuite il faut s'assurer que l'on a bien la dernière version via `conda update conda`. On peut maintenant créer un environnement virtuel. Pour cela on utilise la commande : \n",
    "\n",
    ">`conda create -n NomDelEnvironnement python=x.x anaconda`\n",
    "\n",
    "Par exemple on peut utiliser la commande :\n",
    "\n",
    ">`conda create -n gt-deep-learning python=3.6 anaconda`\n",
    "\n",
    "Une fois l'environnement installé, il nous faut donc l'activer. La commande pour cela est :\n",
    "\n",
    ">`source activate NomDelEnvironnement`  sous Linux / MacOs\n",
    "\n",
    ">`activate NomDelEnvironnement`  sous Windows\n",
    "\n",
    "Pour le désactiver, on utilise les commandes :\n",
    ">`source deactivate`  sous Linux / MacOs\n",
    "\n",
    ">`deactivate`  sous Windows\n",
    "\n",
    "\n",
    "Dans notre cas, on peut donc utiliser la commande `source activate gt-deep-learning`\n",
    "\n",
    "Il nous reste donc qu'à installer les librairies python qui nous intéresse pour faire du deep learning."
   ]
  },
  {
   "cell_type": "markdown",
   "metadata": {},
   "source": [
    "# TensorFlow"
   ]
  },
  {
   "cell_type": "markdown",
   "metadata": {},
   "source": [
    "\"TensorFlow est un outil open source d'apprentissage automatique développé par Google. Le code source a été ouvert le 9 novembre 2015 par Google et publié sous licence Apache.\n",
    "\n",
    "Il est basé sur l'infrastructure DistBelief, initiée par Google en 2011, et est doté d'une interface Python.\n",
    "\n",
    "TensorFlow est l'un des outils les plus utilisés en IA dans le domaine de l'apprentissage machine.\" Wikipédia."
   ]
  },
  {
   "cell_type": "markdown",
   "metadata": {},
   "source": [
    "Nous allons utiliser Anaconda pour l'installer. Il suffit de se placer dans l'environnement virtuel que l'on souhaite (pour nous `gt-deep-learning`) et utiliser la commande `conda install tensorflow`. Anaconda va ainsi rechercher les librairies nécessaires à l'utilisation de la librairie TensorFlow et les installer.\n",
    "\n",
    "Pour vérifier que TensorFlow est bien installé on peut exécuter le \"Hello World\" suivant (soit dans un fichier `.py`, soit directement dans un interpréteur python)"
   ]
  },
  {
   "cell_type": "code",
   "execution_count": 1,
   "metadata": {},
   "outputs": [
    {
     "name": "stdout",
     "output_type": "stream",
     "text": [
      "b'Hello, TensorFlow!'\n"
     ]
    }
   ],
   "source": [
    "import tensorflow as tf\n",
    "\n",
    "hello = tf.constant('Hello, TensorFlow!')\n",
    "\n",
    "\n",
    "sess = tf.Session()\n",
    "\n",
    "\n",
    "print(sess.run(hello))"
   ]
  },
  {
   "cell_type": "markdown",
   "metadata": {},
   "source": [
    "# Keras"
   ]
  },
  {
   "cell_type": "markdown",
   "metadata": {},
   "source": [
    "Keras est une autre librairie open source permettant de faire du deep learning. Elle se base sur TensorFlow et Theano (encore une autre librairie pour faire du deep learning). Elle a l'avantage d'être de plus haut-niveau, donc il est plus facile de créer de prototype de réseaux de neurones avec. Néanmoins, c'est aussi un inconvénient car on perd en flexibilité."
   ]
  },
  {
   "cell_type": "markdown",
   "metadata": {},
   "source": [
    "Nous allons aussi utiliser Anaconda pour l'installer. Encore une fois, il suffit de se placer dans l'environnement virtuel que l'on souhaite (pour nous gt-deep-learning) et utiliser la commande `conda install keras`et Anaconda va installer le nécessaire."
   ]
  },
  {
   "cell_type": "markdown",
   "metadata": {},
   "source": [
    "Par exemple on créé rapidement un réseau de neurones à plusieurs couches denses de la manière suivante"
   ]
  },
  {
   "cell_type": "code",
   "execution_count": 2,
   "metadata": {},
   "outputs": [
    {
     "name": "stdout",
     "output_type": "stream",
     "text": [
      "_________________________________________________________________\n",
      "Layer (type)                 Output Shape              Param #   \n",
      "=================================================================\n",
      "dense_1 (Dense)              (None, 64)                6464      \n",
      "_________________________________________________________________\n",
      "dense_2 (Dense)              (None, 10)                650       \n",
      "=================================================================\n",
      "Total params: 7,114.0\n",
      "Trainable params: 7,114\n",
      "Non-trainable params: 0.0\n",
      "_________________________________________________________________\n"
     ]
    },
    {
     "name": "stderr",
     "output_type": "stream",
     "text": [
      "Using TensorFlow backend.\n"
     ]
    }
   ],
   "source": [
    "from keras.models import Sequential\n",
    "from keras.layers import Dense\n",
    "\n",
    "model = Sequential()\n",
    "\n",
    "model.add(Dense(units=64, activation='relu', input_dim=100))\n",
    "model.add(Dense(units=10, activation='softmax'))\n",
    "\n",
    "model.summary()"
   ]
  },
  {
   "cell_type": "markdown",
   "metadata": {},
   "source": [
    "# Jupyter"
   ]
  },
  {
   "cell_type": "markdown",
   "metadata": {},
   "source": [
    "Jupyter est une application web permettant de programmer dans plus de 40 langages de programmations, y compris python.\n",
    "Cela nous permet de lancer des **notebook** qui sont des pages webs permettant d'éxecuter des petits morceaux de codes écrits dans des **cellules**. "
   ]
  },
  {
   "cell_type": "markdown",
   "metadata": {},
   "source": [
    "Nous allons l'installer grâce à Anaconda dans notre environnement virtuel. La commande d'installation est donc :\n",
    "> `conda install jupyter`"
   ]
  },
  {
   "cell_type": "markdown",
   "metadata": {},
   "source": [
    "Après l'installation, il nous suffit de lancer un \"notebook server\" grâce à la commande `jupyter notebook`. Cela nous ouvre une page web qui nous servira d'interface. De cette interface, on peut créer des notebooks, des fichiers python, textes, des terminaux etc."
   ]
  },
  {
   "cell_type": "markdown",
   "metadata": {},
   "source": [
    "Quand on créé un notebook, cela nous ouvre une interface avec des cellules. On peut écrire des morceaux de codes dans celles-ci. Attention, toutes les variables, fonctions etc. que l'on créé dans une cellule est aussi disponible dans une autre."
   ]
  },
  {
   "cell_type": "markdown",
   "metadata": {},
   "source": [
    "# Liens utiles"
   ]
  },
  {
   "cell_type": "markdown",
   "metadata": {},
   "source": [
    "Pour la documentation TensorFlow le site https://www.tensorflow.org/ est très complet. Il possède mêmes des tutoriels pour commencer le deep learning.\n",
    "\n",
    "Pour la documentation Keras le site https://keras.io/ est aussi pratique."
   ]
  },
  {
   "cell_type": "markdown",
   "metadata": {},
   "source": [
    "Une vidéo d'introduction aux notebooks jupyter : https://www.youtube.com/watch?v=jZ952vChhuI"
   ]
  }
 ],
 "metadata": {
  "kernelspec": {
   "display_name": "Python 3",
   "language": "python",
   "name": "python3"
  },
  "language_info": {
   "codemirror_mode": {
    "name": "ipython",
    "version": 3
   },
   "file_extension": ".py",
   "mimetype": "text/x-python",
   "name": "python",
   "nbconvert_exporter": "python",
   "pygments_lexer": "ipython3",
   "version": "3.6.6"
  }
 },
 "nbformat": 4,
 "nbformat_minor": 2
}
